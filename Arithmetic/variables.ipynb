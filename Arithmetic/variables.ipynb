{
 "cells": [
  {
   "cell_type": "code",
   "execution_count": 1,
   "metadata": {},
   "outputs": [],
   "source": [
    "from IPython.display import display, Math"
   ]
  },
  {
   "cell_type": "code",
   "execution_count": 2,
   "metadata": {},
   "outputs": [
    {
     "data": {
      "text/plain": [
       "'4 + 3 = 7'"
      ]
     },
     "metadata": {},
     "output_type": "display_data"
    },
    {
     "data": {
      "text/latex": [
       "$\\displaystyle 4 + 4 = 8$"
      ],
      "text/plain": [
       "<IPython.core.display.Math object>"
      ]
     },
     "metadata": {},
     "output_type": "display_data"
    },
    {
     "data": {
      "text/latex": [
       "$\\displaystyle 5$"
      ],
      "text/plain": [
       "<IPython.core.display.Math object>"
      ]
     },
     "metadata": {},
     "output_type": "display_data"
    },
    {
     "data": {
      "text/latex": [
       "$\\displaystyle 4+5 = 9$"
      ],
      "text/plain": [
       "<IPython.core.display.Math object>"
      ]
     },
     "metadata": {},
     "output_type": "display_data"
    },
    {
     "data": {
      "text/latex": [
       "$\\displaystyle \\frac{4}{5}$"
      ],
      "text/plain": [
       "<IPython.core.display.Math object>"
      ]
     },
     "metadata": {},
     "output_type": "display_data"
    },
    {
     "data": {
      "text/latex": [
       "$\\displaystyle \\frac{4}{5}=0.8$"
      ],
      "text/plain": [
       "<IPython.core.display.Math object>"
      ]
     },
     "metadata": {},
     "output_type": "display_data"
    },
    {
     "data": {
      "text/latex": [
       "$\\displaystyle 4\\times 5 = 20$"
      ],
      "text/plain": [
       "<IPython.core.display.Math object>"
      ]
     },
     "metadata": {},
     "output_type": "display_data"
    }
   ],
   "source": [
    "# Examples how to display user friendly an Equation in Python\n",
    "\n",
    "display('4 + 3 = ' + str(4 + 3))\n",
    "display(Math('4 + 4 = 8'))\n",
    "x = 4\n",
    "y = 5\n",
    "\n",
    "display(Math(str(5)))\n",
    "\n",
    "#Concatenation in Python\n",
    "display(Math('%g+%g = %g' %(x,y, x+y)))\n",
    "\n",
    "\n",
    "display(Math('\\\\frac{4}{5}'))\n",
    "\n",
    "display(Math('\\\\frac{%g}{%g}=%g' % (x,y, x/y)))\n",
    "display(Math('%g\\\\times %g = %g' % (x,y, x*y)))"
   ]
  },
  {
   "cell_type": "code",
   "execution_count": 3,
   "metadata": {},
   "outputs": [
    {
     "name": "stdout",
     "output_type": "stream",
     "text": [
      "First Example\n"
     ]
    },
    {
     "data": {
      "text/latex": [
       "$\\displaystyle 3x(4+y) = 42$"
      ],
      "text/plain": [
       "<IPython.core.display.Math object>"
      ]
     },
     "metadata": {},
     "output_type": "display_data"
    },
    {
     "name": "stdout",
     "output_type": "stream",
     "text": [
      "Second Example\n"
     ]
    },
    {
     "data": {
      "text/latex": [
       "$\\displaystyle 3\\times{7}(4-2) = 42$"
      ],
      "text/plain": [
       "<IPython.core.display.Math object>"
      ]
     },
     "metadata": {},
     "output_type": "display_data"
    },
    {
     "name": "stdout",
     "output_type": "stream",
     "text": [
      "Thirt Example\n"
     ]
    },
    {
     "data": {
      "text/latex": [
       "$\\displaystyle -y -\\frac{x+3}{z} = 0$"
      ],
      "text/plain": [
       "<IPython.core.display.Math object>"
      ]
     },
     "metadata": {},
     "output_type": "display_data"
    },
    {
     "data": {
      "text/latex": [
       "$\\displaystyle -2 -\\frac{7+3}{5} = 0$"
      ],
      "text/plain": [
       "<IPython.core.display.Math object>"
      ]
     },
     "metadata": {},
     "output_type": "display_data"
    }
   ],
   "source": [
    "\n",
    "x = 7\n",
    "y = -2\n",
    "z = 5\n",
    "\n",
    "answer = 3*x*(4 + y)\n",
    "answer2 = - y - (x + 3) / z\n",
    "print('First Example')\n",
    "display(Math('3x(4+y) = %g' %answer))\n",
    "\n",
    "#First Equation\n",
    "\n",
    "print('Second Example')\n",
    "display(Math('3\\\\times{%g}(4%g) = %g' %(x,y ,answer)))\n",
    "\n",
    "\n",
    "#Second Equation\n",
    "print('Thirt Example')\n",
    "display(Math('-y -\\\\frac{x+3}{z} = %g' %answer2))\n",
    "display(Math('%g -\\\\frac{%g+3}{%g} = %g' %(y,x,z,answer2)))\n"
   ]
  },
  {
   "cell_type": "code",
   "execution_count": 1,
   "metadata": {},
   "outputs": [
    {
     "name": "stdout",
     "output_type": "stream",
     "text": [
      "2.0\n",
      "0.0\n",
      "-7\n"
     ]
    }
   ],
   "source": [
    "\n",
    "# Please Excuse My Dear Aunt Sally (Parentesis, Exponets, Multiplication, Division, Addition, Substraction => PEMDAS)\n",
    "\n",
    "print( (4 * 5) / (7 + 3))\n",
    "print(9 / (3 + 6) - 1) \n",
    "print( 9 - 16)"
   ]
  },
  {
   "cell_type": "code",
   "execution_count": 5,
   "metadata": {},
   "outputs": [
    {
     "name": "stdout",
     "output_type": "stream",
     "text": [
      "0\n",
      "1\n"
     ]
    }
   ],
   "source": [
    "print(10 % 2 )\n",
    "print(10 % 3 )"
   ]
  }
 ],
 "metadata": {
  "kernelspec": {
   "display_name": "Python 3",
   "language": "python",
   "name": "python3"
  },
  "language_info": {
   "codemirror_mode": {
    "name": "ipython",
    "version": 3
   },
   "file_extension": ".py",
   "mimetype": "text/x-python",
   "name": "python",
   "nbconvert_exporter": "python",
   "pygments_lexer": "ipython3",
   "version": "3.13.2"
  }
 },
 "nbformat": 4,
 "nbformat_minor": 2
}
