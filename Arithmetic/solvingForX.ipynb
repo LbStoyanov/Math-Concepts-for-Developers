{
 "cells": [
  {
   "cell_type": "code",
   "execution_count": 2,
   "id": "aceed8d9",
   "metadata": {},
   "outputs": [],
   "source": [
    "import sympy as sym\n",
    "from IPython.display import display,Math\n",
    "import numpy as np"
   ]
  },
  {
   "cell_type": "code",
   "execution_count": 3,
   "id": "0bdd60a4",
   "metadata": {},
   "outputs": [
    {
     "data": {
      "text/latex": [
       "$\\displaystyle - 2 q + 2 + \\frac{3}{q}$"
      ],
      "text/plain": [
       "<IPython.core.display.Math object>"
      ]
     },
     "metadata": {},
     "output_type": "display_data"
    },
    {
     "data": {
      "text/latex": [
       "$\\displaystyle q=\\left[ \\frac{1}{2} - \\frac{\\sqrt{7}}{2}, \\  \\frac{1}{2} + \\frac{\\sqrt{7}}{2}\\right]$"
      ],
      "text/plain": [
       "<IPython.core.display.Math object>"
      ]
     },
     "metadata": {},
     "output_type": "display_data"
    }
   ],
   "source": [
    "#1\n",
    "\n",
    "q = sym.symbols('q')\n",
    "\n",
    "eq = 3*q + 4/q + 3 - 5*q - 1/q - 1\n",
    "\n",
    "display(Math(sym.latex(eq)))\n",
    "\n",
    "display(Math('q=' + sym.latex(sym.solve(eq, q))))\n",
    "#display(Math(sym.latex(eq.simplify())))\n"
   ]
  },
  {
   "cell_type": "code",
   "execution_count": 4,
   "id": "78e24d2f",
   "metadata": {},
   "outputs": [
    {
     "data": {
      "text/latex": [
       "$\\displaystyle 4 x^{2} + 5 x$"
      ],
      "text/plain": [
       "<IPython.core.display.Math object>"
      ]
     },
     "metadata": {},
     "output_type": "display_data"
    }
   ],
   "source": [
    "from sympy.abc import x\n",
    "\n",
    "\n",
    "term1 = (4*x + 5)\n",
    "term2 = x\n",
    "\n",
    "display(Math(sym.latex(sym.expand(term1 * term2))))\n"
   ]
  },
  {
   "cell_type": "code",
   "execution_count": 5,
   "id": "9c273f93",
   "metadata": {},
   "outputs": [
    {
     "name": "stdout",
     "output_type": "stream",
     "text": [
      "Variable    Type        Data/Info\n",
      "---------------------------------\n",
      "Math        type        <class 'IPython.core.display.Math'>\n",
      "display     function    <function display at 0x000002CEEF3FB740>\n",
      "eq          Add         -2*q + 2 + 3/q\n",
      "input_arr   range       range(0, 100)\n",
      "np          module      <module 'numpy' from 'C:\\<...>ges\\\\numpy\\\\__init__.py'>\n",
      "q           Symbol      q\n",
      "sym         module      <module 'sympy' from 'C:\\<...>ges\\\\sympy\\\\__init__.py'>\n",
      "term1       Add         4*x + 5\n",
      "term2       Symbol      x\n",
      "x           Symbol      x\n"
     ]
    }
   ],
   "source": [
    "%whos"
   ]
  },
  {
   "cell_type": "code",
   "execution_count": 6,
   "id": "c6b9dbab",
   "metadata": {},
   "outputs": [
    {
     "data": {
      "text/latex": [
       "$\\displaystyle \\left[\\begin{matrix}1 & 2\\\\3 & 5\\end{matrix}\\right]$"
      ],
      "text/plain": [
       "<IPython.core.display.Math object>"
      ]
     },
     "metadata": {},
     "output_type": "display_data"
    }
   ],
   "source": [
    "# Matrix Creation and Usage in Pyhton, by using Numpy\n",
    "\n",
    "A = np.array([\n",
    "    [1,2],\n",
    "    [3,5]    \n",
    "])\n",
    "\n",
    "type(A[0][1])\n",
    "\n",
    "display(Math(sym.latex(sym.sympify(A))))\n"
   ]
  },
  {
   "cell_type": "code",
   "execution_count": 7,
   "id": "7b32894b",
   "metadata": {},
   "outputs": [
    {
     "data": {
      "text/plain": [
       "array([[0., 0., 0., 0., 0., 0.],\n",
       "       [0., 0., 0., 0., 0., 0.],\n",
       "       [0., 0., 0., 0., 0., 0.],\n",
       "       [0., 0., 0., 0., 0., 0.]])"
      ]
     },
     "execution_count": 7,
     "metadata": {},
     "output_type": "execute_result"
    }
   ],
   "source": [
    "np.zeros([4,6])"
   ]
  },
  {
   "cell_type": "code",
   "execution_count": 8,
   "id": "e64a6cef",
   "metadata": {},
   "outputs": [
    {
     "data": {
      "text/latex": [
       "$\\displaystyle \\left[\\begin{matrix}8.0 & 4.0 & 0.0\\\\10.0 & 5.0 & 0.0\\\\12.0 & 6.0 & 0.0\\end{matrix}\\right]$"
      ],
      "text/plain": [
       "<IPython.core.display.Math object>"
      ]
     },
     "metadata": {},
     "output_type": "display_data"
    }
   ],
   "source": [
    "x, y = sym.symbols('x y')\n",
    "\n",
    "Fxy = (4 + x) * (2 - y)\n",
    "\n",
    "xyset = range(0,3)\n",
    "\n",
    "outputMatrix = np.zeros([len(xyset), len(xyset)])\n",
    "\n",
    "for i in xyset:\n",
    "    for j in xyset:\n",
    "        outputMatrix[i,j] = Fxy.subs({x:i,  y:j})\n",
    "\n",
    "\n",
    "display(Math(sym.latex(sym.sympify(outputMatrix))))\n"
   ]
  },
  {
   "cell_type": "code",
   "execution_count": null,
   "id": "e65068db",
   "metadata": {},
   "outputs": [
    {
     "data": {
      "text/latex": [
       "$\\displaystyle \\left[\\begin{matrix}1.0 & 2.0 & 3.0 & 4.0 & 5.0 & 6.0 & 7.0 & 8.0 & 9.0 & 10.0\\\\2.0 & 4.0 & 6.0 & 8.0 & 10.0 & 12.0 & 14.0 & 16.0 & 18.0 & 20.0\\\\3.0 & 6.0 & 9.0 & 12.0 & 15.0 & 18.0 & 21.0 & 24.0 & 27.0 & 30.0\\\\4.0 & 8.0 & 12.0 & 16.0 & 20.0 & 24.0 & 28.0 & 32.0 & 36.0 & 40.0\\\\5.0 & 10.0 & 15.0 & 20.0 & 25.0 & 30.0 & 35.0 & 40.0 & 45.0 & 50.0\\\\6.0 & 12.0 & 18.0 & 24.0 & 30.0 & 36.0 & 42.0 & 48.0 & 54.0 & 60.0\\\\7.0 & 14.0 & 21.0 & 28.0 & 35.0 & 42.0 & 49.0 & 56.0 & 63.0 & 70.0\\\\8.0 & 16.0 & 24.0 & 32.0 & 40.0 & 48.0 & 56.0 & 64.0 & 72.0 & 80.0\\\\9.0 & 18.0 & 27.0 & 36.0 & 45.0 & 54.0 & 63.0 & 72.0 & 81.0 & 90.0\\\\10.0 & 20.0 & 30.0 & 40.0 & 50.0 & 60.0 & 70.0 & 80.0 & 90.0 & 100.0\\end{matrix}\\right]$"
      ],
      "text/plain": [
       "<IPython.core.display.Math object>"
      ]
     },
     "metadata": {},
     "output_type": "display_data"
    }
   ],
   "source": [
    "# Multiplication Table\n",
    "\n",
    "input_arr = range(0,100)\n",
    "\n",
    "mt_array = np.zeros([10,10])\n",
    "\n",
    "for i in range(10):\n",
    "    for j in range(10):\n",
    "        mt_array[i][j] = (i + 1) * (j + 1)\n",
    "    \n",
    "\n",
    "    \n",
    "display(Math(sym.latex(sym.sympify(mt_array))))\n",
    "\n"
   ]
  }
 ],
 "metadata": {
  "kernelspec": {
   "display_name": "Python 3",
   "language": "python",
   "name": "python3"
  },
  "language_info": {
   "codemirror_mode": {
    "name": "ipython",
    "version": 3
   },
   "file_extension": ".py",
   "mimetype": "text/x-python",
   "name": "python",
   "nbconvert_exporter": "python",
   "pygments_lexer": "ipython3",
   "version": "3.13.3"
  }
 },
 "nbformat": 4,
 "nbformat_minor": 5
}
