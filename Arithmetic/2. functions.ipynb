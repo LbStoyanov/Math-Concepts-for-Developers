{
 "cells": [
  {
   "cell_type": "code",
   "execution_count": 1,
   "id": "c6848e51",
   "metadata": {},
   "outputs": [],
   "source": [
    "from IPython.display import display,Math\n",
    "\n",
    "def myFunc():\n",
    "    print('ko stava lek?')\n",
    "\n",
    "    \n",
    "def myFunc2(name):\n",
    "    print('Zdraste, %s' %name)    \n",
    "\n",
    "\n"
   ]
  },
  {
   "cell_type": "code",
   "execution_count": 2,
   "id": "70ab15d8",
   "metadata": {},
   "outputs": [
    {
     "name": "stdout",
     "output_type": "stream",
     "text": [
      "ko stava lek?\n",
      "Zdraste, chichi\n"
     ]
    }
   ],
   "source": [
    "myFunc()\n",
    "myFunc2('chichi')"
   ]
  },
  {
   "cell_type": "code",
   "execution_count": 3,
   "id": "083186e6",
   "metadata": {},
   "outputs": [],
   "source": [
    "# Create two functions that will compute x to the power of y and x/y\n",
    "# Input 3 numbers from the user: x, y and a function switch\n",
    "# Call the requested function\n",
    "\n",
    "def computePower(x,y):\n",
    "    \n",
    "     display(Math('%g^{%g} = %g' %(x,y,x**y)))\n",
    "\n",
    "def computeDivision(x, y):\n",
    "     display(Math('\\\\frac{%g}{%g} = %g' %(x,y,x/y)))\n",
    "\n",
    "\n"
   ]
  },
  {
   "cell_type": "code",
   "execution_count": 4,
   "id": "a89da159",
   "metadata": {},
   "outputs": [
    {
     "ename": "ValueError",
     "evalue": "invalid literal for int() with base 10: ''",
     "output_type": "error",
     "traceback": [
      "\u001b[31m---------------------------------------------------------------------------\u001b[39m",
      "\u001b[31mValueError\u001b[39m                                Traceback (most recent call last)",
      "\u001b[36mCell\u001b[39m\u001b[36m \u001b[39m\u001b[32mIn[4]\u001b[39m\u001b[32m, line 3\u001b[39m\n\u001b[32m      1\u001b[39m x = \u001b[38;5;28mfloat\u001b[39m(\u001b[38;5;28minput\u001b[39m(\u001b[33m\"\u001b[39m\u001b[33mEnter the first number (x): \u001b[39m\u001b[33m\"\u001b[39m))\n\u001b[32m      2\u001b[39m y = \u001b[38;5;28mfloat\u001b[39m(\u001b[38;5;28minput\u001b[39m(\u001b[33m\"\u001b[39m\u001b[33mEnter the second number (y): \u001b[39m\u001b[33m\"\u001b[39m))\n\u001b[32m----> \u001b[39m\u001b[32m3\u001b[39m operation = \u001b[38;5;28;43mint\u001b[39;49m\u001b[43m(\u001b[49m\u001b[38;5;28;43minput\u001b[39;49m\u001b[43m(\u001b[49m\u001b[33;43m\"\u001b[39;49m\u001b[33;43mChoose operation - \u001b[39;49m\u001b[33;43m'\u001b[39;49m\u001b[33;43mpower\u001b[39;49m\u001b[33;43m'\u001b[39;49m\u001b[33;43m or \u001b[39;49m\u001b[33;43m'\u001b[39;49m\u001b[33;43mdivision\u001b[39;49m\u001b[33;43m'\u001b[39;49m\u001b[33;43m: \u001b[39;49m\u001b[33;43m\"\u001b[39;49m\u001b[43m)\u001b[49m\u001b[43m.\u001b[49m\u001b[43mstrip\u001b[49m\u001b[43m(\u001b[49m\u001b[43m)\u001b[49m\u001b[43m.\u001b[49m\u001b[43mlower\u001b[49m\u001b[43m(\u001b[49m\u001b[43m)\u001b[49m\u001b[43m)\u001b[49m\n\u001b[32m      5\u001b[39m result = \u001b[33m'\u001b[39m\u001b[33m'\u001b[39m\n\u001b[32m      7\u001b[39m \u001b[38;5;66;03m# Call the appropriate function\u001b[39;00m\n",
      "\u001b[31mValueError\u001b[39m: invalid literal for int() with base 10: ''"
     ]
    }
   ],
   "source": [
    "x = float(input(\"Enter the first number (x): \"))\n",
    "y = float(input(\"Enter the second number (y): \"))\n",
    "operation = int(input(\"Choose operation - 'power' or 'division': \").strip().lower())\n",
    "\n",
    "result = ''\n",
    "\n",
    "# Call the appropriate function\n",
    "if operation == 1:\n",
    "         computePower(x, y)\n",
    "elif operation == 2:\n",
    "    if y == 0:\n",
    "        result = \"Error: Cannot divide by zero.\"\n",
    "    else:\n",
    "         computeDivision(x, y)\n",
    "else:\n",
    "    result = \"Invalid operation selected.\"\n",
    "\n",
    "\n",
    "if result:\n",
    "    print(\"Result:\", result)"
   ]
  },
  {
   "cell_type": "code",
   "execution_count": null,
   "id": "a4a58ea3",
   "metadata": {},
   "outputs": [
    {
     "data": {
      "text/latex": [
       "$\\displaystyle 3^{3 - 1} = 9$"
      ],
      "text/plain": [
       "<IPython.core.display.Math object>"
      ]
     },
     "metadata": {},
     "output_type": "display_data"
    }
   ],
   "source": [
    "x = 3\n",
    "y = 3\n",
    "z = x**(y - 1)\n",
    "\n",
    "display(Math('%g^{%g - %g} = %g' %(x,x,1,z)))"
   ]
  }
 ],
 "metadata": {
  "kernelspec": {
   "display_name": "Python 3",
   "language": "python",
   "name": "python3"
  },
  "language_info": {
   "codemirror_mode": {
    "name": "ipython",
    "version": 3
   },
   "file_extension": ".py",
   "mimetype": "text/x-python",
   "name": "python",
   "nbconvert_exporter": "python",
   "pygments_lexer": "ipython3",
   "version": "3.13.3"
  }
 },
 "nbformat": 4,
 "nbformat_minor": 5
}
