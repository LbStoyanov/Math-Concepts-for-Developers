{
 "cells": [
  {
   "cell_type": "code",
   "execution_count": 1,
   "metadata": {},
   "outputs": [],
   "source": [
    "from IPython.display import display, Math\n",
    "from math import sqrt\n",
    "# Examples How to compute powers in Python\n",
    "# The law of exponents\n",
    "# Examples how to ilustrate math concepts in code"
   ]
  },
  {
   "cell_type": "code",
   "execution_count": 2,
   "metadata": {},
   "outputs": [
    {
     "name": "stdout",
     "output_type": "stream",
     "text": [
      "X is: 11.920989990234375\n",
      "C is: 2.8284271247461903\n"
     ]
    },
    {
     "data": {
      "text/latex": [
       "$\\displaystyle \\frac{5^8 + 2}{8^5} + b^3 \\sqrt b = 11.921$"
      ],
      "text/plain": [
       "<IPython.core.display.Math object>"
      ]
     },
     "metadata": {},
     "output_type": "display_data"
    }
   ],
   "source": [
    "a = 5\n",
    "b = 8\n",
    "c = sqrt(8)\n",
    "x = (a**b + 2) / (b**a)\n",
    "\n",
    "print('X is: ' + str(x))\n",
    "print('C is: ' + str(c))\n",
    "\n",
    "#display(Math('3^2 \\\\frac {4}^{2} = %g' %x))\n",
    "display(Math('\\\\frac{%g^%g + 2}{%g^%g} + b^3 \\\\sqrt b = %g' %(a,b,b,a,x)))\n",
    "\n",
    "\n",
    "\n"
   ]
  },
  {
   "cell_type": "code",
   "execution_count": 3,
   "metadata": {},
   "outputs": [
    {
     "data": {
      "text/latex": [
       "$\\displaystyle x^{3/4} \\times 4^y = 3933.09$"
      ],
      "text/plain": [
       "<IPython.core.display.Math object>"
      ]
     },
     "metadata": {},
     "output_type": "display_data"
    },
    {
     "data": {
      "text/latex": [
       "$\\displaystyle 5^{3/4} \\times 4^{5.1} = 3933.09$"
      ],
      "text/plain": [
       "<IPython.core.display.Math object>"
      ]
     },
     "metadata": {},
     "output_type": "display_data"
    }
   ],
   "source": [
    "x = 5\n",
    "\n",
    "y = 5.1\n",
    "\n",
    "result = (x**(3/4)) * 4**y\n",
    "\n",
    "\n",
    "display(Math('x^{3/4} \\\\times 4^y = %g' %(result)))\n",
    "\n",
    "display(Math('%g^{3/4} \\\\times 4^{%g} = %g' %(x,y,result)))\n",
    "\n",
    "\n",
    "\n",
    "\n"
   ]
  }
 ],
 "metadata": {
  "kernelspec": {
   "display_name": "Python 3",
   "language": "python",
   "name": "python3"
  },
  "language_info": {
   "codemirror_mode": {
    "name": "ipython",
    "version": 3
   },
   "file_extension": ".py",
   "mimetype": "text/x-python",
   "name": "python",
   "nbconvert_exporter": "python",
   "pygments_lexer": "ipython3",
   "version": "3.13.3"
  }
 },
 "nbformat": 4,
 "nbformat_minor": 2
}
