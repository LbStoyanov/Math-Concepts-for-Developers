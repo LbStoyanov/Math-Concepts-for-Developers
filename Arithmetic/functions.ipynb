{
 "cells": [
  {
   "cell_type": "code",
   "execution_count": 1,
   "id": "c6848e51",
   "metadata": {},
   "outputs": [],
   "source": [
    "from IPython.display import display,Math\n",
    "\n",
    "def myFunc():\n",
    "    print('ko stava lek?')\n",
    "\n",
    "    \n",
    "def myFunc2(name):\n",
    "    print('Zdraste, %s' %name)    \n",
    "\n",
    "\n"
   ]
  },
  {
   "cell_type": "code",
   "execution_count": 2,
   "id": "70ab15d8",
   "metadata": {},
   "outputs": [
    {
     "name": "stdout",
     "output_type": "stream",
     "text": [
      "ko stava lek?\n",
      "Zdraste, chichi\n"
     ]
    }
   ],
   "source": [
    "myFunc()\n",
    "myFunc2('chichi')"
   ]
  },
  {
   "cell_type": "code",
   "execution_count": null,
   "id": "083186e6",
   "metadata": {},
   "outputs": [],
   "source": [
    "# Create two functions that will compute x to the power of y and x/y\n",
    "# Input 3 numbers from the user: x, y and a function switch\n",
    "# Call the requested function\n",
    "\n",
    "def computePower(x,y):\n",
    "    \n",
    "     display(Math('%g^{%g} = %g' %(x,y,x**y)))\n",
    "\n",
    "def computeDivision(x, y):\n",
    "     display(Math('\\\\frac{%g}{%g} = %g' %(x,y,x/y)))\n",
    "\n",
    "\n"
   ]
  },
  {
   "cell_type": "code",
   "execution_count": 4,
   "id": "a89da159",
   "metadata": {},
   "outputs": [
    {
     "data": {
      "text/latex": [
       "$\\displaystyle \\frac{10}{5} = 2$"
      ],
      "text/plain": [
       "<IPython.core.display.Math object>"
      ]
     },
     "metadata": {},
     "output_type": "display_data"
    }
   ],
   "source": [
    "x = float(input(\"Enter the first number (x): \"))\n",
    "y = float(input(\"Enter the second number (y): \"))\n",
    "operation = int(input(\"Choose operation - 'power' or 'division': \").strip().lower())\n",
    "\n",
    "result = ''\n",
    "\n",
    "# Call the appropriate function\n",
    "if operation == 1:\n",
    "         computePower(x, y)\n",
    "elif operation == 2:\n",
    "    if y == 0:\n",
    "        result = \"Error: Cannot divide by zero.\"\n",
    "    else:\n",
    "         computeDivision(x, y)\n",
    "else:\n",
    "    result = \"Invalid operation selected.\"\n",
    "\n",
    "\n",
    "if result:\n",
    "    print(\"Result:\", result)"
   ]
  },
  {
   "cell_type": "code",
   "execution_count": 5,
   "id": "a4a58ea3",
   "metadata": {},
   "outputs": [
    {
     "data": {
      "text/latex": [
       "$\\displaystyle 3^{3 - 1} = 9$"
      ],
      "text/plain": [
       "<IPython.core.display.Math object>"
      ]
     },
     "metadata": {},
     "output_type": "display_data"
    }
   ],
   "source": [
    "x = 3\n",
    "y = 3\n",
    "z = x**(y - 1)\n",
    "\n",
    "display(Math('%g^{%g - %g} = %g' %(x,x,1,z)))"
   ]
  }
 ],
 "metadata": {
  "kernelspec": {
   "display_name": "Python 3",
   "language": "python",
   "name": "python3"
  },
  "language_info": {
   "codemirror_mode": {
    "name": "ipython",
    "version": 3
   },
   "file_extension": ".py",
   "mimetype": "text/x-python",
   "name": "python",
   "nbconvert_exporter": "python",
   "pygments_lexer": "ipython3",
   "version": "3.13.2"
  }
 },
 "nbformat": 4,
 "nbformat_minor": 5
}
