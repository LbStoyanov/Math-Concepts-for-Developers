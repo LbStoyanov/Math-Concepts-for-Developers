{
 "cells": [
  {
   "cell_type": "code",
   "execution_count": 1,
   "id": "6c1fd6ff",
   "metadata": {},
   "outputs": [
    {
     "data": {
      "text/latex": [
       "$\\displaystyle 4x + 5y - 8z = 17$"
      ],
      "text/plain": [
       "<IPython.core.display.Math object>"
      ]
     },
     "metadata": {},
     "output_type": "display_data"
    },
    {
     "data": {
      "text/latex": [
       "$\\displaystyle \\sin(2\\pi f t +\\theta)$"
      ],
      "text/plain": [
       "<IPython.core.display.Math object>"
      ]
     },
     "metadata": {},
     "output_type": "display_data"
    },
    {
     "data": {
      "text/latex": [
       "$\\displaystyle e = mc^2$"
      ],
      "text/plain": [
       "<IPython.core.display.Math object>"
      ]
     },
     "metadata": {},
     "output_type": "display_data"
    },
    {
     "data": {
      "text/latex": [
       "$\\displaystyle \\frac{4 + 5x^{2}}{(1+ x)(1 - x)}$"
      ],
      "text/plain": [
       "<IPython.core.display.Math object>"
      ]
     },
     "metadata": {},
     "output_type": "display_data"
    }
   ],
   "source": [
    "from IPython.display import display,Math\n",
    "import sympy as sp\n",
    "sp.init_printing()\n",
    "\n",
    "display(Math('4x + 5y - 8z = 17'))\n",
    "\n",
    "display(Math('\\\\sin(2\\\\pi f t +\\\\theta)'))\n",
    "\n",
    "display(Math('e = mc^2'))\n",
    "\n",
    "display(Math('\\\\frac{4 + 5x^{2}}{(1+ x)(1 - x)}'))"
   ]
  },
  {
   "cell_type": "code",
   "execution_count": 2,
   "id": "54fb5e1d",
   "metadata": {},
   "outputs": [
    {
     "data": {
      "text/latex": [
       "$\\displaystyle \\huge e^{\\frac{\\left(- \\alpha + \\mu\\right)^{2}}{2 \\sigma^{2}}}$"
      ],
      "text/plain": [
       "<IPython.core.display.Math object>"
      ]
     },
     "metadata": {},
     "output_type": "display_data"
    }
   ],
   "source": [
    "mu,alpha,sigma = sp.symbols('mu,alpha,sigma')\n",
    "\n",
    "expr = sp.exp((mu - alpha)**2 / (2*sigma**2))\n",
    "\n",
    "# display(expr) The default font size of the output is too small\n",
    "display(Math('\\\\huge ' + sp.latex(expr)))\n"
   ]
  },
  {
   "cell_type": "code",
   "execution_count": 3,
   "id": "0726ef71",
   "metadata": {},
   "outputs": [
    {
     "data": {
      "text/latex": [
       "$\\displaystyle 4 x^{y} + \\frac{3}{4}$"
      ],
      "text/plain": [
       "<IPython.core.display.Math object>"
      ]
     },
     "metadata": {},
     "output_type": "display_data"
    }
   ],
   "source": [
    "\n",
    "display(Math(sp.latex(sp.sympify('(3/4) + 4*x**y'))))"
   ]
  },
  {
   "cell_type": "code",
   "execution_count": 4,
   "id": "53575e78",
   "metadata": {},
   "outputs": [
    {
     "name": "stdout",
     "output_type": "stream",
     "text": [
      "Hi,my name is Mike\n"
     ]
    }
   ],
   "source": [
    "name = 'Mike'\n",
    "\n",
    "print(f'Hi,my name is {name}')"
   ]
  },
  {
   "cell_type": "code",
   "execution_count": null,
   "id": "5e2b5ad2",
   "metadata": {},
   "outputs": [
    {
     "data": {
      "image/png": "[encoded data removed]",
      "text/latex": [
       "$\\displaystyle x^{y} x^{z}$"
      ],
      "text/plain": [
       " y  z\n",
       "x ⋅x "
      ]
     },
     "metadata": {},
     "output_type": "display_data"
    },
    {
     "data": {
      "image/png": "[encoded data removed]",
      "text/latex": [
       "$\\displaystyle b^{z} x^{y}$"
      ],
      "text/plain": [
       " z  y\n",
       "b ⋅x "
      ]
     },
     "metadata": {},
     "output_type": "display_data"
    },
    {
     "data": {
      "image/png": "[encoded data removed]",
      "text/latex": [
       "$\\displaystyle x^{y + z}$"
      ],
      "text/plain": [
       " y + z\n",
       "x     "
      ]
     },
     "metadata": {},
     "output_type": "display_data"
    },
    {
     "data": {
      "image/png": "[encoded data removed]",
      "text/latex": [
       "$\\displaystyle b^{z} x^{y}$"
      ],
      "text/plain": [
       " z  y\n",
       "b ⋅x "
      ]
     },
     "metadata": {},
     "output_type": "display_data"
    }
   ],
   "source": [
    "x,y,z,b = sp.symbols('x,y,z,b')\n",
    "\n",
    "expr = x**y * x**z # here we have the same base term (x), so the sp.simplify method applies addition operation to the powers of the both expresions (y + z)\n",
    "expr2 = x**y * b**z # Here we have different bases (x and b), so the sp.simplify method does not do anything in this expression.\n",
    "\n",
    "display(expr)\n",
    "display(expr2)\n",
    "display(sp.simplify(expr))\n",
    "display(sp.simplify(expr2))"
   ]
  }
 ],
 "metadata": {
  "kernelspec": {
   "display_name": "Python 3",
   "language": "python",
   "name": "python3"
  },
  "language_info": {
   "codemirror_mode": {
    "name": "ipython",
    "version": 3
   },
   "file_extension": ".py",
   "mimetype": "text/x-python",
   "name": "python",
   "nbconvert_exporter": "python",
   "pygments_lexer": "ipython3",
   "version": "3.13.2"
  }
 },
 "nbformat": 4,
 "nbformat_minor": 5
}
