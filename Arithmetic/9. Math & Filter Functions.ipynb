{
 "cells": [
  {
   "cell_type": "code",
   "execution_count": 1,
   "id": "94d28a1e",
   "metadata": {},
   "outputs": [],
   "source": [
    "def times2(var):\n",
    "    return var*2"
   ]
  },
  {
   "cell_type": "code",
   "execution_count": 4,
   "id": "6703fbbf",
   "metadata": {},
   "outputs": [],
   "source": [
    "times2(5)\n",
    "\n",
    "seq = [1,2,3,4,5]\n",
    "\n",
    "#List Comprehension\n",
    "output = [times2(item) for item in seq]\n",
    "\n",
    "\n",
    "#With Map() Build-In Functiomn\n",
    "\n",
    "output = list(map(times2, seq))"
   ]
  },
  {
   "cell_type": "code",
   "execution_count": 7,
   "id": "875cc4bd",
   "metadata": {},
   "outputs": [
    {
     "data": {
      "text/plain": [
       "[1, 3, 5]"
      ]
     },
     "execution_count": 7,
     "metadata": {},
     "output_type": "execute_result"
    }
   ],
   "source": [
    "list(filter(lambda num : num%2 == 1, seq))"
   ]
  },
  {
   "cell_type": "code",
   "execution_count": null,
   "id": "680ccabc",
   "metadata": {},
   "outputs": [],
   "source": []
  },
  {
   "cell_type": "code",
   "execution_count": 11,
   "id": "0b1fb039",
   "metadata": {},
   "outputs": [
    {
     "name": "stdout",
     "output_type": "stream",
     "text": [
      "1\n",
      "3\n",
      "5\n"
     ]
    }
   ],
   "source": [
    "#Tuple unpacking\n",
    "\n",
    "x = [(1,2), (3,4), (5,6)]\n",
    "\n",
    "\n",
    "for a,b in x:\n",
    "    print(a)\n",
    "\n",
    "    #print(b)"
   ]
  }
 ],
 "metadata": {
  "kernelspec": {
   "display_name": "Python 3",
   "language": "python",
   "name": "python3"
  },
  "language_info": {
   "codemirror_mode": {
    "name": "ipython",
    "version": 3
   },
   "file_extension": ".py",
   "mimetype": "text/x-python",
   "name": "python",
   "nbconvert_exporter": "python",
   "pygments_lexer": "ipython3",
   "version": "3.13.3"
  }
 },
 "nbformat": 4,
 "nbformat_minor": 5
}
