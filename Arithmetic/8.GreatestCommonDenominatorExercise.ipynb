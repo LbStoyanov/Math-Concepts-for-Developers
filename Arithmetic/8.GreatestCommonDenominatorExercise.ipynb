{
 "cells": [
  {
   "cell_type": "code",
   "execution_count": 7,
   "id": "11298754",
   "metadata": {},
   "outputs": [],
   "source": [
    "import sympy as sym\n",
    "import numpy as np\n",
    "\n",
    "\n",
    "from math import gcd"
   ]
  },
  {
   "cell_type": "code",
   "execution_count": 12,
   "id": "20d02846",
   "metadata": {},
   "outputs": [
    {
     "name": "stdout",
     "output_type": "stream",
     "text": [
      "[[ 1  1  1  1  1  1  1  1  1  1  1  1  1  1  1]\n",
      " [ 1  2  1  2  1  2  1  2  1  2  1  2  1  2  1]\n",
      " [ 1  1  3  1  1  3  1  1  3  1  1  3  1  1  3]\n",
      " [ 1  2  1  4  1  2  1  4  1  2  1  4  1  2  1]\n",
      " [ 1  1  1  1  5  1  1  1  1  5  1  1  1  1  5]\n",
      " [ 1  2  3  2  1  6  1  2  3  2  1  6  1  2  3]\n",
      " [ 1  1  1  1  1  1  7  1  1  1  1  1  1  7  1]\n",
      " [ 1  2  1  4  1  2  1  8  1  2  1  4  1  2  1]\n",
      " [ 1  1  3  1  1  3  1  1  9  1  1  3  1  1  3]\n",
      " [ 1  2  1  2  5  2  1  2  1 10  1  2  1  2  5]]\n"
     ]
    }
   ],
   "source": [
    "#Create a matrix that contains 10 rows and 15 columns, where each element is equial to 99\n",
    "\n",
    "matrix  = np.full((10, 15), 99)\n",
    "\n",
    "\n",
    "#Populate the matrix such that the i-th row and j-th column contains gcd(i+1,j+1)\n",
    "\n",
    "rows, cols = 10, 15\n",
    "\n",
    "for i in range(rows):\n",
    "    for j in range(cols):\n",
    "        matrix[i][j] = gcd(i + 1, j + 1)\n",
    "\n",
    "\n",
    "print(matrix)"
   ]
  }
 ],
 "metadata": {
  "language_info": {
   "name": "python"
  }
 },
 "nbformat": 4,
 "nbformat_minor": 5
}
