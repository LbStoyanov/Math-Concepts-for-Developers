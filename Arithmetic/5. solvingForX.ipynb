{
 "cells": [
  {
   "cell_type": "code",
   "execution_count": 46,
   "id": "aceed8d9",
   "metadata": {},
   "outputs": [],
   "source": [
    "import sympy as sym\n",
    "from IPython.display import display,Math\n",
    "import numpy as np"
   ]
  },
  {
   "cell_type": "code",
   "execution_count": 47,
   "id": "0bdd60a4",
   "metadata": {},
   "outputs": [
    {
     "data": {
      "text/latex": [
       "$\\displaystyle - 2 q + 2 + \\frac{3}{q}$"
      ],
      "text/plain": [
       "<IPython.core.display.Math object>"
      ]
     },
     "metadata": {},
     "output_type": "display_data"
    },
    {
     "data": {
      "text/latex": [
       "$\\displaystyle q=\\left[ \\frac{1}{2} - \\frac{\\sqrt{7}}{2}, \\  \\frac{1}{2} + \\frac{\\sqrt{7}}{2}\\right]$"
      ],
      "text/plain": [
       "<IPython.core.display.Math object>"
      ]
     },
     "metadata": {},
     "output_type": "display_data"
    }
   ],
   "source": [
    "#1\n",
    "\n",
    "q = sym.symbols('q')\n",
    "\n",
    "eq = 3*q + 4/q + 3 - 5*q - 1/q - 1\n",
    "\n",
    "display(Math(sym.latex(eq)))\n",
    "\n",
    "display(Math('q=' + sym.latex(sym.solve(eq, q))))\n",
    "#display(Math(sym.latex(eq.simplify())))\n"
   ]
  },
  {
   "cell_type": "code",
   "execution_count": 48,
   "id": "78e24d2f",
   "metadata": {},
   "outputs": [
    {
     "data": {
      "text/latex": [
       "$\\displaystyle 4 x^{2} + 5 x$"
      ],
      "text/plain": [
       "<IPython.core.display.Math object>"
      ]
     },
     "metadata": {},
     "output_type": "display_data"
    }
   ],
   "source": [
    "from sympy.abc import x\n",
    "\n",
    "\n",
    "term1 = (4*x + 5)\n",
    "term2 = x\n",
    "\n",
    "display(Math(sym.latex(sym.expand(term1 * term2))))\n"
   ]
  },
  {
   "cell_type": "code",
   "execution_count": 49,
   "id": "9c273f93",
   "metadata": {},
   "outputs": [
    {
     "name": "stdout",
     "output_type": "stream",
     "text": [
      "Variable       Type        Data/Info\n",
      "------------------------------------\n",
      "A              ndarray     2x2: 4 elems, type `int64`, 32 bytes\n",
      "Fxy            Mul         (2 - y)*(x + 4)\n",
      "Math           type        <class 'IPython.core.display.Math'>\n",
      "counter        int         1\n",
      "display        function    <function display at 0x000002CEEF3FB740>\n",
      "eq             Add         -2*q + 2 + 3/q\n",
      "i              int         9\n",
      "input_arr      range       range(0, 100)\n",
      "int_array      ndarray     10x10: 100 elems, type `int64`, 800 bytes\n",
      "j              int         9\n",
      "mt_array       ndarray     10x10: 100 elems, type `int64`, 800 bytes\n",
      "np             module      <module 'numpy' from 'C:\\<...>ges\\\\numpy\\\\__init__.py'>\n",
      "outputMatrix   ndarray     3x3: 9 elems, type `float64`, 72 bytes\n",
      "q              Symbol      q\n",
      "row            ndarray     10: 10 elems, type `int64`, 80 bytes\n",
      "sym            module      <module 'sympy' from 'C:\\<...>ges\\\\sympy\\\\__init__.py'>\n",
      "term1          Add         4*x + 5\n",
      "term2          Symbol      x\n",
      "x              Symbol      x\n",
      "xyset          range       range(0, 3)\n",
      "y              Symbol      y\n"
     ]
    }
   ],
   "source": [
    "%whos"
   ]
  },
  {
   "cell_type": "code",
   "execution_count": 50,
   "id": "c6b9dbab",
   "metadata": {},
   "outputs": [
    {
     "data": {
      "text/latex": [
       "$\\displaystyle \\left[\\begin{matrix}1 & 2\\\\3 & 5\\end{matrix}\\right]$"
      ],
      "text/plain": [
       "<IPython.core.display.Math object>"
      ]
     },
     "metadata": {},
     "output_type": "display_data"
    }
   ],
   "source": [
    "# Matrix Creation and Usage in Pyhton, by using Numpy\n",
    "\n",
    "A = np.array([\n",
    "    [1,2],\n",
    "    [3,5]    \n",
    "])\n",
    "\n",
    "type(A[0][1])\n",
    "\n",
    "display(Math(sym.latex(sym.sympify(A))))\n"
   ]
  },
  {
   "cell_type": "code",
   "execution_count": 51,
   "id": "7b32894b",
   "metadata": {},
   "outputs": [
    {
     "data": {
      "text/plain": [
       "array([[0., 0., 0., 0., 0., 0.],\n",
       "       [0., 0., 0., 0., 0., 0.],\n",
       "       [0., 0., 0., 0., 0., 0.],\n",
       "       [0., 0., 0., 0., 0., 0.]])"
      ]
     },
     "execution_count": 51,
     "metadata": {},
     "output_type": "execute_result"
    }
   ],
   "source": [
    "np.zeros([4,6])"
   ]
  },
  {
   "cell_type": "code",
   "execution_count": 52,
   "id": "e64a6cef",
   "metadata": {},
   "outputs": [
    {
     "data": {
      "text/latex": [
       "$\\displaystyle \\left[\\begin{matrix}8.0 & 4.0 & 0.0\\\\10.0 & 5.0 & 0.0\\\\12.0 & 6.0 & 0.0\\end{matrix}\\right]$"
      ],
      "text/plain": [
       "<IPython.core.display.Math object>"
      ]
     },
     "metadata": {},
     "output_type": "display_data"
    }
   ],
   "source": [
    "x, y = sym.symbols('x y')\n",
    "\n",
    "Fxy = (4 + x) * (2 - y)\n",
    "\n",
    "xyset = range(0,3)\n",
    "\n",
    "outputMatrix = np.zeros([len(xyset), len(xyset)])\n",
    "\n",
    "for i in xyset:\n",
    "    for j in xyset:\n",
    "        outputMatrix[i,j] = Fxy.subs({x:i,  y:j})\n",
    "\n",
    "\n",
    "display(Math(sym.latex(sym.sympify(outputMatrix))))\n"
   ]
  },
  {
   "cell_type": "code",
   "execution_count": 53,
   "id": "e65068db",
   "metadata": {},
   "outputs": [
    {
     "data": {
      "text/latex": [
       "$\\displaystyle \\left[\\begin{matrix}1 & 2 & 3 & 4 & 5 & 6 & 7 & 8 & 9 & 10\\\\2 & 4 & 6 & 8 & 10 & 12 & 14 & 16 & 18 & 20\\\\3 & 6 & 9 & 12 & 15 & 18 & 21 & 24 & 27 & 30\\\\4 & 8 & 12 & 16 & 20 & 24 & 28 & 32 & 36 & 40\\\\5 & 10 & 15 & 20 & 25 & 30 & 35 & 40 & 45 & 50\\\\6 & 12 & 18 & 24 & 30 & 36 & 42 & 48 & 54 & 60\\\\7 & 14 & 21 & 28 & 35 & 42 & 49 & 56 & 63 & 70\\\\8 & 16 & 24 & 32 & 40 & 48 & 56 & 64 & 72 & 80\\\\9 & 18 & 27 & 36 & 45 & 54 & 63 & 72 & 81 & 90\\\\10 & 20 & 30 & 40 & 50 & 60 & 70 & 80 & 90 & 100\\end{matrix}\\right]$"
      ],
      "text/plain": [
       "<IPython.core.display.Math object>"
      ]
     },
     "metadata": {},
     "output_type": "display_data"
    }
   ],
   "source": [
    "# Multiplication Table\n",
    "\n",
    "input_arr = range(0,100)\n",
    "\n",
    "mt_array = np.zeros([10,10]).astype(int)\n",
    "\n",
    "for i in range(10):\n",
    "    for j in range(10):\n",
    "        mt_array[i][j] = (i + 1) * (j + 1)\n",
    "    \n",
    "\n",
    "    \n",
    "display(Math(sym.latex(sym.sympify(mt_array))))\n",
    "\n"
   ]
  }
 ],
 "metadata": {
  "kernelspec": {
   "display_name": "Python 3",
   "language": "python",
   "name": "python3"
  },
  "language_info": {
   "codemirror_mode": {
    "name": "ipython",
    "version": 3
   },
   "file_extension": ".py",
   "mimetype": "text/x-python",
   "name": "python",
   "nbconvert_exporter": "python",
   "pygments_lexer": "ipython3",
   "version": "3.13.3"
  }
 },
 "nbformat": 4,
 "nbformat_minor": 5
}
