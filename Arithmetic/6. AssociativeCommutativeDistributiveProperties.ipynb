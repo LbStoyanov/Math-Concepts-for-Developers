{
 "cells": [
  {
   "cell_type": "code",
   "execution_count": 1,
   "id": "4b347e7c",
   "metadata": {},
   "outputs": [],
   "source": [
    "import sympy as sym"
   ]
  },
  {
   "cell_type": "code",
   "execution_count": 3,
   "id": "1a660f5c",
   "metadata": {},
   "outputs": [
    {
     "data": {
      "text/latex": [
       "$\\displaystyle 0$"
      ],
      "text/plain": [
       "0"
      ]
     },
     "execution_count": 3,
     "metadata": {},
     "output_type": "execute_result"
    }
   ],
   "source": [
    "# associative\n",
    "\n",
    "from sympy.abc import x,y\n",
    "\n",
    "expr1 = x*(4*y)\n",
    "expr2 = (x*4) *y\n",
    "\n",
    "expr1 - expr2"
   ]
  },
  {
   "cell_type": "code",
   "execution_count": 6,
   "id": "417003a4",
   "metadata": {},
   "outputs": [
    {
     "name": "stdout",
     "output_type": "stream",
     "text": [
      "24\n",
      "24\n",
      "24\n"
     ]
    }
   ],
   "source": [
    "#commutative\n",
    "\n",
    "e1 = 4*x*y\n",
    "e2 = x*4*y\n",
    "e3 = y*x*4\n",
    "\n",
    "print(e1.subs({x:3,y:2}))\n",
    "print(e2.subs({x:3,y:2}))\n",
    "print(e3.subs({x:3,y:2}))"
   ]
  },
  {
   "cell_type": "code",
   "execution_count": 8,
   "id": "e44ff47b",
   "metadata": {},
   "outputs": [
    {
     "data": {
      "text/latex": [
       "$\\displaystyle a c + a d + b c + b d$"
      ],
      "text/plain": [
       "a*c + a*d + b*c + b*d"
      ]
     },
     "execution_count": 8,
     "metadata": {},
     "output_type": "execute_result"
    }
   ],
   "source": [
    "#disctributive\n",
    "a,b,c,d = sym.symbols('a,b,c,d')\n",
    "\n",
    "\n",
    "expr = (a+b)*(c+d)\n",
    "\n",
    "sym.expand(expr)"
   ]
  },
  {
   "cell_type": "code",
   "execution_count": 10,
   "id": "812e4f92",
   "metadata": {},
   "outputs": [
    {
     "data": {
      "text/latex": [
       "$\\displaystyle \\left(y + z\\right) \\left(w \\left(4 - w\\right) + \\frac{w + 1}{w^{2}}\\right) \\left(\\left(w \\left(4 - w\\right) + \\frac{w + 1}{w^{2}}\\right)^{2} + \\frac{3}{w \\left(4 - w\\right) + \\frac{w + 1}{w^{2}}}\\right)$"
      ],
      "text/plain": [
       "<IPython.core.display.Math object>"
      ]
     },
     "execution_count": 10,
     "metadata": {},
     "output_type": "execute_result"
    }
   ],
   "source": [
    "from IPython.display import Math, display\n",
    "\n",
    "x,y,z,w = sym.symbols('x y z w')\n",
    "\n",
    "x = w*(4-w) + 1/w**2 * (1+w)\n",
    "\n",
    "f1 = x*(y+z)\n",
    "f2 = 3/x + x**2\n",
    "\n",
    "Math(sym.latex(f1*f2))"
   ]
  }
 ],
 "metadata": {
  "kernelspec": {
   "display_name": "Python 3",
   "language": "python",
   "name": "python3"
  },
  "language_info": {
   "codemirror_mode": {
    "name": "ipython",
    "version": 3
   },
   "file_extension": ".py",
   "mimetype": "text/x-python",
   "name": "python",
   "nbconvert_exporter": "python",
   "pygments_lexer": "ipython3",
   "version": "3.13.3"
  }
 },
 "nbformat": 4,
 "nbformat_minor": 5
}
