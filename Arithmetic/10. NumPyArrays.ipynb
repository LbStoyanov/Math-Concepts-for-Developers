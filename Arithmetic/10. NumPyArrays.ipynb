{
 "cells": [
  {
   "cell_type": "code",
   "execution_count": 1,
   "id": "b54db362",
   "metadata": {},
   "outputs": [],
   "source": [
    "import numpy as np"
   ]
  },
  {
   "cell_type": "code",
   "execution_count": 7,
   "id": "c85b2f5e",
   "metadata": {},
   "outputs": [
    {
     "name": "stdout",
     "output_type": "stream",
     "text": [
      "[[0. 0. 0.]\n",
      " [0. 0. 0.]\n",
      " [0. 0. 0.]]\n",
      "\n",
      "[[1. 1. 1. 1.]\n",
      " [1. 1. 1. 1.]\n",
      " [1. 1. 1. 1.]\n",
      " [1. 1. 1. 1.]]\n"
     ]
    }
   ],
   "source": [
    "zeros = np.zeros((3,3))\n",
    "\n",
    "\n",
    "print(zeros)\n",
    "\n",
    "ones = np.ones((4,4))\n",
    "\n",
    "print()\n",
    "\n",
    "print(ones)"
   ]
  },
  {
   "cell_type": "code",
   "execution_count": 10,
   "id": "f200f082",
   "metadata": {},
   "outputs": [
    {
     "name": "stdout",
     "output_type": "stream",
     "text": [
      "[[1. 0. 0. 0. 0.]\n",
      " [0. 1. 0. 0. 0.]\n",
      " [0. 0. 1. 0. 0.]\n",
      " [0. 0. 0. 1. 0.]\n",
      " [0. 0. 0. 0. 1.]]\n"
     ]
    }
   ],
   "source": [
    "# Identity Matrix\n",
    "\n",
    "\n",
    "the_eye = np.eye(5)\n",
    "\n",
    "print(the_eye)"
   ]
  },
  {
   "cell_type": "code",
   "execution_count": 13,
   "id": "14f5b526",
   "metadata": {},
   "outputs": [
    {
     "name": "stdout",
     "output_type": "stream",
     "text": [
      "[0.79121365 0.07113552 0.40764907 0.20214904 0.8588229 ]\n"
     ]
    }
   ],
   "source": [
    "one_dimension_matrix = np.random.rand(5) # Returns numbers from 0 to 1\n",
    "print(one_dimension_matrix)"
   ]
  },
  {
   "cell_type": "code",
   "execution_count": 15,
   "id": "c658b49c",
   "metadata": {},
   "outputs": [
    {
     "name": "stdout",
     "output_type": "stream",
     "text": [
      "[[0.97217645 0.7750764  0.80411129 0.9710598  0.02389055]\n",
      " [0.27123225 0.09870749 0.75675137 0.85318394 0.4694614 ]\n",
      " [0.48044068 0.64267427 0.16919616 0.3110228  0.69469137]\n",
      " [0.19756885 0.76486973 0.90172318 0.53336796 0.24791541]\n",
      " [0.37964538 0.32103683 0.87037401 0.31319767 0.42317329]]\n"
     ]
    }
   ],
   "source": [
    "two_dimension_matrix = np.random.rand(5,5) # Returns numbers from 0 to 1 in two dimensions\n",
    "print(two_dimension_matrix)"
   ]
  },
  {
   "cell_type": "code",
   "execution_count": 18,
   "id": "1d35438f",
   "metadata": {},
   "outputs": [
    {
     "name": "stdout",
     "output_type": "stream",
     "text": [
      "[34 73 27 78 61 34 53 35 55 21]\n",
      "<class 'numpy.ndarray'>\n"
     ]
    }
   ],
   "source": [
    "random_ints = np.random.randint(1,100,10) # Returns 10 numbers from 0 to 100 excluding 100\n",
    "print(random_ints)\n",
    "print(type(random_ints))"
   ]
  },
  {
   "cell_type": "code",
   "execution_count": 21,
   "id": "7c0d956a",
   "metadata": {},
   "outputs": [
    {
     "name": "stdout",
     "output_type": "stream",
     "text": [
      "[ 0  1  2  3  4  5  6  7  8  9 10 11 12 13 14 15 16 17 18 19 20 21 22 23\n",
      " 24]\n"
     ]
    }
   ],
   "source": [
    "#Reshape method turns one dimensional array in n dimensions\n",
    "\n",
    "#Before Reshape\n",
    "\n",
    "arr = np.arange(25)\n",
    "print(arr)\n"
   ]
  },
  {
   "cell_type": "code",
   "execution_count": 28,
   "id": "436648a3",
   "metadata": {},
   "outputs": [
    {
     "name": "stdout",
     "output_type": "stream",
     "text": [
      "[[ 0  1  2  3  4]\n",
      " [ 5  6  7  8  9]\n",
      " [10 11 12 13 14]\n",
      " [15 16 17 18 19]\n",
      " [20 21 22 23 24]]\n",
      "13\n"
     ]
    }
   ],
   "source": [
    "#After Reshape\n",
    "\n",
    "reshaped_arr = arr.reshape(5,5) # NB! For reshaping the values should produce the same number of elements as the original array has(5 x 5 = 25), but (5 x 10) will throw exception\n",
    "\n",
    "print(reshaped_arr)\n",
    "print(reshaped_arr[2,3])"
   ]
  },
  {
   "cell_type": "code",
   "execution_count": null,
   "id": "1432b569",
   "metadata": {},
   "outputs": [
    {
     "name": "stdout",
     "output_type": "stream",
     "text": [
      "24\n",
      "0\n",
      "0\n",
      "24\n"
     ]
    }
   ],
   "source": [
    "print(arr.max()) # max value\n",
    "\n",
    "print(arr.min()) # min value\n",
    "\n",
    "print(arr.argmin()) # min value index\n",
    "\n",
    "print(arr.argmax()) # max value index"
   ]
  }
 ],
 "metadata": {
  "kernelspec": {
   "display_name": "Python 3",
   "language": "python",
   "name": "python3"
  },
  "language_info": {
   "codemirror_mode": {
    "name": "ipython",
    "version": 3
   },
   "file_extension": ".py",
   "mimetype": "text/x-python",
   "name": "python",
   "nbconvert_exporter": "python",
   "pygments_lexer": "ipython3",
   "version": "3.13.3"
  }
 },
 "nbformat": 4,
 "nbformat_minor": 5
}
